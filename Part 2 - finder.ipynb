{
 "cells": [
  {
   "cell_type": "markdown",
   "metadata": {},
   "source": [
    "Часть 2: Поиск и фильтрация среди результатов зарплатных опросов."
   ]
  },
  {
   "cell_type": "code",
   "execution_count": 1,
   "metadata": {
    "scrolled": false
   },
   "outputs": [],
   "source": [
    "import pandas as pd\n",
    "import numpy as np\n",
    "import matplotlib as mpl\n",
    "import matplotlib.pyplot as plt\n",
    "from ipywidgets import widgets\n",
    "from IPython.display import display\n",
    "\n",
    "try:\n",
    "  import google.colab\n",
    "  from google.colab import files\n",
    "  IN_COLAB = True\n",
    "  path_prefix = 'https://raw.githubusercontent.com/a11ejandro/dou_careers/master/result_csv/'\n",
    "except:\n",
    "  IN_COLAB = False\n",
    "  path_prefix = 'result_csv/'\n",
    "\n",
    "\n",
    "\n",
    "source_df = pd.read_csv(path_prefix + 'concatenated_source.csv',\n",
    "                        parse_dates=['timestamp'],\n",
    "                        dtype={'loc': str, 'currency': str})\n"
   ]
  },
  {
   "cell_type": "markdown",
   "metadata": {},
   "source": [
    "Возможные значения в результатах опросов."
   ]
  },
  {
   "cell_type": "code",
   "execution_count": 2,
   "metadata": {
    "tags": [
     "outputPrepend"
    ]
   },
   "outputs": [],
   "source": [
    "replaced_nan = lambda arr: ['N/A' if pd.isnull(x) else x for x in arr]\n",
    "\n",
    "def unique_sort(series):\n",
    "    unique = set(replaced_nan(series))\n",
    "    return sorted(unique)\n",
    "\n",
    "def unique_sort_multiple(series):\n",
    "    replaced = replaced_nan(series)\n",
    "    expanded = list(map(lambda x: x.split(','), replaced))\n",
    "    unique = set(np.concatenate(expanded))\n",
    "    return sorted(unique)\n",
    "\n",
    "ENGLISH_LEVELS = ['элементарный', 'ниже среднего', 'средний', 'выше среднего', 'продвинутый']\n",
    "EDUCATION_LEVELS = ['Среднее', 'Техникум / Колледж', 'Еще студент', 'Незаконченное высшее', 'Высшее', 'Два высших', 'Кандидат']\n",
    "POSITIONS = unique_sort(source_df.position)\n",
    "SPECIALITIES = unique_sort(source_df.speciality)\n",
    "PROGRAMMING_LANGUAGES = unique_sort(source_df.programming_language)\n",
    "CITIES = unique_sort(source_df.city)\n",
    "COMPANY_SIZES = unique_sort(source_df.company_size)\n",
    "COMPANY_TYPES = unique_sort(source_df.company_type)\n",
    "GENDERS = unique_sort(source_df.gender)\n",
    "UNIVERSITIES = unique_sort(source_df.university)\n",
    "SUBJECT_AREAS = unique_sort(source_df.subject_area)\n",
    "SUBJECT_AREAS = unique_sort_multiple(source_df.subject_area)"
   ]
  },
  {
   "cell_type": "markdown",
   "metadata": {},
   "source": [
    "Определения полей для фильтров."
   ]
  },
  {
   "cell_type": "code",
   "execution_count": 3,
   "metadata": {},
   "outputs": [],
   "source": [
    "def position_na(values):\n",
    "    new_values = values.copy()\n",
    "    \n",
    "    if 'N/A' in new_values:\n",
    "        new_values.remove('N/A')\n",
    "        \n",
    "    new_values.insert(0, 'N/A')\n",
    "    return new_values\n",
    "\n",
    "style = {'description_width': '200px'}\n",
    "layout = widgets.Layout(width='50%')\n",
    "\n",
    "university = widgets.Dropdown(\n",
    "    options=position_na(UNIVERSITIES),\n",
    "    description='Университет',\n",
    "    style=style,\n",
    "    layout=layout,\n",
    "    disabled=False,\n",
    ")\n",
    "\n",
    "education = widgets.Dropdown(\n",
    "    options=position_na(EDUCATION_LEVELS),\n",
    "    description='Уровень образования',\n",
    "    style=style,\n",
    "    layout=layout,\n",
    "    disabled=False,\n",
    ")\n",
    "\n",
    "programming_language = widgets.Dropdown(\n",
    "    options = position_na(PROGRAMMING_LANGUAGES),\n",
    "    description='Язык программирования',\n",
    "    style=style,\n",
    "    layout=layout,\n",
    "    disabled=False\n",
    ")\n",
    "\n",
    "position = widgets.Dropdown(\n",
    "    options=position_na(POSITIONS),\n",
    "    description='Должность',\n",
    "    style=style,\n",
    "    layout=layout,\n",
    "    disabled=False,\n",
    ")\n",
    "\n",
    "speciality = widgets.Dropdown(\n",
    "    options=position_na(SPECIALITIES),\n",
    "    description='Специализация',\n",
    "    style=style,\n",
    "    layout=layout,\n",
    "    disabled=False,\n",
    ")\n",
    "\n",
    "gender = widgets.Dropdown(\n",
    "    options=position_na(GENDERS),\n",
    "    description='Пол',\n",
    "    style=style,\n",
    "    layout=layout,\n",
    "    disabled=False,\n",
    ")\n",
    "\n",
    "city = widgets.Dropdown(\n",
    "    options=position_na(CITIES),\n",
    "    description='Город',\n",
    "    style=style,\n",
    "    layout=layout,\n",
    "    disabled=False,\n",
    ")\n",
    "\n",
    "company_type = widgets.Dropdown(\n",
    "    options=position_na(COMPANY_TYPES),\n",
    "    description='Тип компании',\n",
    "    style=style,\n",
    "    layout=layout,\n",
    "    disabled=False,\n",
    ")\n",
    "\n",
    "company_size = widgets.Dropdown(\n",
    "    options=position_na(COMPANY_SIZES),\n",
    "    description='Размер компании',\n",
    "    style=style,\n",
    "    layout=layout,\n",
    "    disabled=False,\n",
    ")\n",
    "\n",
    "subject_area = widgets.Dropdown(\n",
    "    options=position_na(SUBJECT_AREAS),\n",
    "    description='Предметная область',\n",
    "    style=style,\n",
    "    layout=layout,\n",
    "    disabled=False,\n",
    ")\n",
    "\n",
    "english_level = widgets.Dropdown(\n",
    "    options=position_na(ENGLISH_LEVELS),\n",
    "    description='Уровень Английского',\n",
    "    style=style,\n",
    "    layout=layout,\n",
    "    disabled=False,\n",
    ")\n",
    "\n",
    "salary = widgets.FloatText(\n",
    "    value=float('NaN'),\n",
    "    description='Размер вознаграждения',\n",
    "    style=style,\n",
    "    layout=layout,\n",
    "    disabled=False\n",
    ")\n",
    "                          \n",
    "age = widgets.FloatText(\n",
    "    value=float('NaN'),\n",
    "    description='Возраст',\n",
    "    style=style,\n",
    "    layout=layout,\n",
    "    disabled=False\n",
    ")\n",
    "\n",
    "total_experience = widgets.FloatText(\n",
    "    value=float('NaN'),\n",
    "    description='Общий опыт работы',\n",
    "    layout=layout,\n",
    "    style=style,\n",
    "    disabled=False\n",
    ")\n",
    "\n",
    "current_experience = widgets.FloatText(\n",
    "    value=float('NaN'),\n",
    "    description='Опыт работы на текущем месте',\n",
    "    style=style,\n",
    "    layout=layout,\n",
    "    disabled=False\n",
    ")\n",
    "\n",
    "actual_date = widgets.DatePicker(\n",
    "    description='Дата, на которую информация была актуальной',\n",
    "    style=style,\n",
    "    layout=layout,\n",
    "    disabled=False\n",
    ")\n",
    "\n",
    "lookup_future = widgets.RadioButtons(\n",
    "    options=[True, False],\n",
    "    description='Искать в поздних результатах',\n",
    "    style=style,\n",
    "    layout=layout,\n",
    "    disabled=False\n",
    ")\n",
    "\n",
    "\n",
    "submit = widgets.Button(description=\"Обработать\")\n",
    "\n",
    "inputs = {\n",
    "  'university': university,\n",
    "  'education': education,\n",
    "  'programming_language': programming_language,\n",
    "  'position': position,\n",
    "  'speciality': speciality,\n",
    "  'gender': gender,\n",
    "  'city': city,\n",
    "  'company_type': company_type,\n",
    "  'company_size': company_size,\n",
    "  'english_level': english_level,\n",
    "  'salary': salary,\n",
    "  'subject_area': subject_area,\n",
    "  'age': age,\n",
    "  'exp': total_experience,\n",
    "  'current_job_exp': current_experience,\n",
    "  'timestamp': actual_date,\n",
    "  'lookup_future': lookup_future,\n",
    "  'submit': submit,\n",
    "}\n",
    "\n"
   ]
  },
  {
   "cell_type": "markdown",
   "metadata": {},
   "source": [
    "Методы для фильтрации данных."
   ]
  },
  {
   "cell_type": "code",
   "execution_count": 29,
   "metadata": {},
   "outputs": [],
   "source": [
    "STRICT_MATCHES = ['university', 'position', 'programming_language', 'speciality', 'gender', 'city', 'company_type', 'company_size']\n",
    "YEAR_MATCHES = ['age', 'exp', 'current_job_exp']\n",
    "\n",
    "def strict_match(df, column, value):\n",
    "    if value == 'N/A':\n",
    "        return True\n",
    "    return df[column] == value\n",
    "\n",
    "def date_match(df, date, lookup_future=False):\n",
    "    if pd.isnull(date):\n",
    "        return True\n",
    "\n",
    "    if lookup_future:\n",
    "        search_window_start = date\n",
    "        search_window_end = date + pd.Timedelta(182, 'D')\n",
    "    else:\n",
    "        search_window_start = date - pd.Timedelta(182, 'D')\n",
    "        search_window_end = date\n",
    "        \n",
    "    search_window_start = pd.to_datetime(search_window_start).tz_localize('UTC')\n",
    "    search_window_end = pd.to_datetime(search_window_end).tz_localize('UTC')\n",
    "    \n",
    "    return (df.timestamp > search_window_start) & (df.timestamp < search_window_end)\n",
    "\n",
    "def education_level_match(df, education):\n",
    "    if education == 'N/A':\n",
    "        return True\n",
    "    return df.education_level == EDUCATION_LEVELS.index(education)\n",
    "\n",
    "def english_level_match(df, english_level):\n",
    "    if english_level == 'N/A':\n",
    "        return True\n",
    "    return df.english_level == ENGLISH_LEVELS.index(english_level)\n",
    "\n",
    "def years_match(df, column, value):\n",
    "    if value == 'N/A' or pd.isnull(value):\n",
    "        return True\n",
    "    return (value - df[column]) <= 1\n",
    "\n",
    "def salary_match(df, value):\n",
    "    return (True if pd.isnull(value) else df['salary'] == value)\n",
    "\n",
    "def apply_matchers(df):\n",
    "    checks_results = list(map(lambda x: years_match(df, x, inputs[x].value), YEAR_MATCHES))\n",
    "    checks_results += list(map(lambda x: strict_match(df, x, inputs[x].value), STRICT_MATCHES))\n",
    "    checks_results.append(salary_match(df, inputs['salary'].value))\n",
    "    checks_results.append(english_level_match(df, inputs['english_level'].value))\n",
    "    checks_results.append(education_level_match(df, inputs['education'].value))\n",
    "    checks_results.append(date_match(df, inputs['timestamp'].value, lookup_future = inputs['lookup_future'].value))\n",
    "\n",
    "    result = checks_results[0]\n",
    "\n",
    "    for new_check in checks_results[1:]:\n",
    "        result = result & new_check\n",
    "    \n",
    "    return result"
   ]
  },
  {
   "cell_type": "markdown",
   "metadata": {},
   "source": [
    "Поиск похожих анкет в других опросах."
   ]
  },
  {
   "cell_type": "code",
   "execution_count": 30,
   "metadata": {},
   "outputs": [
    {
     "data": {
      "application/vnd.jupyter.widget-view+json": {
       "model_id": "e9d3a719f97f42b2bb69e6e3512a243c",
       "version_major": 2,
       "version_minor": 0
      },
      "text/plain": [
       "Dropdown(description='Университет', layout=Layout(width='50%'), options=('N/A', 'ВНТУ', 'ВНУ им. Даля', 'ГУТ',…"
      ]
     },
     "metadata": {},
     "output_type": "display_data"
    },
    {
     "data": {
      "application/vnd.jupyter.widget-view+json": {
       "model_id": "d131f0107daa441d8a295e7219bb0f4f",
       "version_major": 2,
       "version_minor": 0
      },
      "text/plain": [
       "Output()"
      ]
     },
     "metadata": {},
     "output_type": "display_data"
    },
    {
     "data": {
      "application/vnd.jupyter.widget-view+json": {
       "model_id": "1ea34d3153f24b3899ea369ec4048304",
       "version_major": 2,
       "version_minor": 0
      },
      "text/plain": [
       "Dropdown(description='Уровень образования', layout=Layout(width='50%'), options=('N/A', 'Среднее', 'Техникум /…"
      ]
     },
     "metadata": {},
     "output_type": "display_data"
    },
    {
     "data": {
      "application/vnd.jupyter.widget-view+json": {
       "model_id": "d131f0107daa441d8a295e7219bb0f4f",
       "version_major": 2,
       "version_minor": 0
      },
      "text/plain": [
       "Output()"
      ]
     },
     "metadata": {},
     "output_type": "display_data"
    },
    {
     "data": {
      "application/vnd.jupyter.widget-view+json": {
       "model_id": "67bf19d7fe99444a8e9bd10ac7237be8",
       "version_major": 2,
       "version_minor": 0
      },
      "text/plain": [
       "Dropdown(description='Язык программирования', index=21, layout=Layout(width='50%'), options=('N/A', '1С', 'ABA…"
      ]
     },
     "metadata": {},
     "output_type": "display_data"
    },
    {
     "data": {
      "application/vnd.jupyter.widget-view+json": {
       "model_id": "d131f0107daa441d8a295e7219bb0f4f",
       "version_major": 2,
       "version_minor": 0
      },
      "text/plain": [
       "Output()"
      ]
     },
     "metadata": {},
     "output_type": "display_data"
    },
    {
     "data": {
      "application/vnd.jupyter.widget-view+json": {
       "model_id": "9a667508cb854dfd9f12949773e7ad17",
       "version_major": 2,
       "version_minor": 0
      },
      "text/plain": [
       "Dropdown(description='Должность', layout=Layout(width='50%'), options=('N/A', 'BI Engineer', 'Business Analyst…"
      ]
     },
     "metadata": {},
     "output_type": "display_data"
    },
    {
     "data": {
      "application/vnd.jupyter.widget-view+json": {
       "model_id": "d131f0107daa441d8a295e7219bb0f4f",
       "version_major": 2,
       "version_minor": 0
      },
      "text/plain": [
       "Output()"
      ]
     },
     "metadata": {},
     "output_type": "display_data"
    },
    {
     "data": {
      "application/vnd.jupyter.widget-view+json": {
       "model_id": "d04f0bf3bdda4f75abdb6020b67e38a1",
       "version_major": 2,
       "version_minor": 0
      },
      "text/plain": [
       "Dropdown(description='Специализация', layout=Layout(width='50%'), options=('N/A', 'Automation QA', 'General QA…"
      ]
     },
     "metadata": {},
     "output_type": "display_data"
    },
    {
     "data": {
      "application/vnd.jupyter.widget-view+json": {
       "model_id": "d131f0107daa441d8a295e7219bb0f4f",
       "version_major": 2,
       "version_minor": 0
      },
      "text/plain": [
       "Output()"
      ]
     },
     "metadata": {},
     "output_type": "display_data"
    },
    {
     "data": {
      "application/vnd.jupyter.widget-view+json": {
       "model_id": "8946817700f74003afafb37ad5da92fb",
       "version_major": 2,
       "version_minor": 0
      },
      "text/plain": [
       "Dropdown(description='Пол', layout=Layout(width='50%'), options=('N/A', 'женский', 'мужской'), style=Descripti…"
      ]
     },
     "metadata": {},
     "output_type": "display_data"
    },
    {
     "data": {
      "application/vnd.jupyter.widget-view+json": {
       "model_id": "d131f0107daa441d8a295e7219bb0f4f",
       "version_major": 2,
       "version_minor": 0
      },
      "text/plain": [
       "Output()"
      ]
     },
     "metadata": {},
     "output_type": "display_data"
    },
    {
     "data": {
      "application/vnd.jupyter.widget-view+json": {
       "model_id": "28f52b11e3644dc2ac26c8c013726402",
       "version_major": 2,
       "version_minor": 0
      },
      "text/plain": [
       "Dropdown(description='Город', index=8, layout=Layout(width='50%'), options=('N/A', 'Винница', 'Днепр', 'Днепр.…"
      ]
     },
     "metadata": {},
     "output_type": "display_data"
    },
    {
     "data": {
      "application/vnd.jupyter.widget-view+json": {
       "model_id": "d131f0107daa441d8a295e7219bb0f4f",
       "version_major": 2,
       "version_minor": 0
      },
      "text/plain": [
       "Output()"
      ]
     },
     "metadata": {},
     "output_type": "display_data"
    },
    {
     "data": {
      "application/vnd.jupyter.widget-view+json": {
       "model_id": "51bddb4dc01b453cb6342fbad0786c1f",
       "version_major": 2,
       "version_minor": 0
      },
      "text/plain": [
       "Dropdown(description='Тип компании', layout=Layout(width='50%'), options=('N/A', 'Аутсорсинговая', 'Аутстаффин…"
      ]
     },
     "metadata": {},
     "output_type": "display_data"
    },
    {
     "data": {
      "application/vnd.jupyter.widget-view+json": {
       "model_id": "d131f0107daa441d8a295e7219bb0f4f",
       "version_major": 2,
       "version_minor": 0
      },
      "text/plain": [
       "Output()"
      ]
     },
     "metadata": {},
     "output_type": "display_data"
    },
    {
     "data": {
      "application/vnd.jupyter.widget-view+json": {
       "model_id": "29daa0eb55434ac6905d66f6c53fb4dc",
       "version_major": 2,
       "version_minor": 0
      },
      "text/plain": [
       "Dropdown(description='Размер компании', layout=Layout(width='50%'), options=('N/A', 'до 10 человек', 'до 1000 …"
      ]
     },
     "metadata": {},
     "output_type": "display_data"
    },
    {
     "data": {
      "application/vnd.jupyter.widget-view+json": {
       "model_id": "d131f0107daa441d8a295e7219bb0f4f",
       "version_major": 2,
       "version_minor": 0
      },
      "text/plain": [
       "Output()"
      ]
     },
     "metadata": {},
     "output_type": "display_data"
    },
    {
     "data": {
      "application/vnd.jupyter.widget-view+json": {
       "model_id": "574045e849024eebac1f31892d99529b",
       "version_major": 2,
       "version_minor": 0
      },
      "text/plain": [
       "Dropdown(description='Уровень Английского', layout=Layout(width='50%'), options=('N/A', 'элементарный', 'ниже …"
      ]
     },
     "metadata": {},
     "output_type": "display_data"
    },
    {
     "data": {
      "application/vnd.jupyter.widget-view+json": {
       "model_id": "d131f0107daa441d8a295e7219bb0f4f",
       "version_major": 2,
       "version_minor": 0
      },
      "text/plain": [
       "Output()"
      ]
     },
     "metadata": {},
     "output_type": "display_data"
    },
    {
     "data": {
      "application/vnd.jupyter.widget-view+json": {
       "model_id": "5c7c87715e714b93af2226d1d277355a",
       "version_major": 2,
       "version_minor": 0
      },
      "text/plain": [
       "FloatText(value=nan, description='Размер вознаграждения', layout=Layout(width='50%'), style=DescriptionStyle(d…"
      ]
     },
     "metadata": {},
     "output_type": "display_data"
    },
    {
     "data": {
      "application/vnd.jupyter.widget-view+json": {
       "model_id": "d131f0107daa441d8a295e7219bb0f4f",
       "version_major": 2,
       "version_minor": 0
      },
      "text/plain": [
       "Output()"
      ]
     },
     "metadata": {},
     "output_type": "display_data"
    },
    {
     "data": {
      "application/vnd.jupyter.widget-view+json": {
       "model_id": "c7466a6557164161b52d2344a263e956",
       "version_major": 2,
       "version_minor": 0
      },
      "text/plain": [
       "Dropdown(description='Предметная область', layout=Layout(width='50%'), options=('N/A', 'Android', 'Desktop App…"
      ]
     },
     "metadata": {},
     "output_type": "display_data"
    },
    {
     "data": {
      "application/vnd.jupyter.widget-view+json": {
       "model_id": "d131f0107daa441d8a295e7219bb0f4f",
       "version_major": 2,
       "version_minor": 0
      },
      "text/plain": [
       "Output()"
      ]
     },
     "metadata": {},
     "output_type": "display_data"
    },
    {
     "data": {
      "application/vnd.jupyter.widget-view+json": {
       "model_id": "7e315d5e9e314af9a2c2116bc48329ad",
       "version_major": 2,
       "version_minor": 0
      },
      "text/plain": [
       "FloatText(value=nan, description='Возраст', layout=Layout(width='50%'), style=DescriptionStyle(description_wid…"
      ]
     },
     "metadata": {},
     "output_type": "display_data"
    },
    {
     "data": {
      "application/vnd.jupyter.widget-view+json": {
       "model_id": "d131f0107daa441d8a295e7219bb0f4f",
       "version_major": 2,
       "version_minor": 0
      },
      "text/plain": [
       "Output()"
      ]
     },
     "metadata": {},
     "output_type": "display_data"
    },
    {
     "data": {
      "application/vnd.jupyter.widget-view+json": {
       "model_id": "543eec762eda44dfae70d12372b64dd6",
       "version_major": 2,
       "version_minor": 0
      },
      "text/plain": [
       "FloatText(value=nan, description='Общий опыт работы', layout=Layout(width='50%'), style=DescriptionStyle(descr…"
      ]
     },
     "metadata": {},
     "output_type": "display_data"
    },
    {
     "data": {
      "application/vnd.jupyter.widget-view+json": {
       "model_id": "d131f0107daa441d8a295e7219bb0f4f",
       "version_major": 2,
       "version_minor": 0
      },
      "text/plain": [
       "Output()"
      ]
     },
     "metadata": {},
     "output_type": "display_data"
    },
    {
     "data": {
      "application/vnd.jupyter.widget-view+json": {
       "model_id": "4990282f98ef4888bbab2f74225294cc",
       "version_major": 2,
       "version_minor": 0
      },
      "text/plain": [
       "FloatText(value=nan, description='Опыт работы на текущем месте', layout=Layout(width='50%'), style=Description…"
      ]
     },
     "metadata": {},
     "output_type": "display_data"
    },
    {
     "data": {
      "application/vnd.jupyter.widget-view+json": {
       "model_id": "d131f0107daa441d8a295e7219bb0f4f",
       "version_major": 2,
       "version_minor": 0
      },
      "text/plain": [
       "Output()"
      ]
     },
     "metadata": {},
     "output_type": "display_data"
    },
    {
     "data": {
      "application/vnd.jupyter.widget-view+json": {
       "model_id": "d3de6b830cae491f898a97c69a259f81",
       "version_major": 2,
       "version_minor": 0
      },
      "text/plain": [
       "DatePicker(value=datetime.date(2019, 4, 5), description='Дата, на которую информация была актуальной', layout=…"
      ]
     },
     "metadata": {},
     "output_type": "display_data"
    },
    {
     "data": {
      "application/vnd.jupyter.widget-view+json": {
       "model_id": "d131f0107daa441d8a295e7219bb0f4f",
       "version_major": 2,
       "version_minor": 0
      },
      "text/plain": [
       "Output()"
      ]
     },
     "metadata": {},
     "output_type": "display_data"
    },
    {
     "data": {
      "application/vnd.jupyter.widget-view+json": {
       "model_id": "f9cd2b051bef4c26b056d817af07ee9b",
       "version_major": 2,
       "version_minor": 0
      },
      "text/plain": [
       "RadioButtons(description='Искать в поздних результатах', layout=Layout(width='50%'), options=(True, False), st…"
      ]
     },
     "metadata": {},
     "output_type": "display_data"
    },
    {
     "data": {
      "application/vnd.jupyter.widget-view+json": {
       "model_id": "d131f0107daa441d8a295e7219bb0f4f",
       "version_major": 2,
       "version_minor": 0
      },
      "text/plain": [
       "Output()"
      ]
     },
     "metadata": {},
     "output_type": "display_data"
    },
    {
     "data": {
      "application/vnd.jupyter.widget-view+json": {
       "model_id": "985bbb51d5ce41f98c55ce7f480268c8",
       "version_major": 2,
       "version_minor": 0
      },
      "text/plain": [
       "Button(description='Обработать', style=ButtonStyle())"
      ]
     },
     "metadata": {},
     "output_type": "display_data"
    },
    {
     "data": {
      "application/vnd.jupyter.widget-view+json": {
       "model_id": "d131f0107daa441d8a295e7219bb0f4f",
       "version_major": 2,
       "version_minor": 0
      },
      "text/plain": [
       "Output()"
      ]
     },
     "metadata": {},
     "output_type": "display_data"
    },
    {
     "name": "stdout",
     "output_type": "stream",
     "text": [
      "\n",
      "Обработка формы.\n",
      "Данные отфильтрованы.\n",
      "Обработка формы.\n",
      "Данные отфильтрованы.\n",
      "Обработка формы.\n",
      "Данные отфильтрованы.\n",
      "Обработка формы.\n",
      "Данные отфильтрованы.\n",
      "Обработка формы.\n",
      "Данные отфильтрованы.\n",
      "Обработка формы.\n",
      "Данные отфильтрованы.\n",
      "Обработка формы.\n",
      "Данные отфильтрованы.\n",
      "Обработка формы.\n",
      "Данные отфильтрованы.\n",
      "Обработка формы.\n",
      "Данные отфильтрованы.\n",
      "Обработка формы.\n",
      "Данные отфильтрованы.\n",
      "Обработка формы.\n",
      "Данные отфильтрованы.\n",
      "Обработка формы.\n",
      "Данные отфильтрованы.\n"
     ]
    }
   ],
   "source": [
    "JOINED_SUFFIX='_joined'\n",
    "SIMILAR_SUFFIX='_similar'\n",
    "RELATION_SUFFIX='_relation'\n",
    "\n",
    "\n",
    "EXTRACT_COLUMNS=['N', 'position', 'programming_language', 'speciality',\n",
    "       'salary_delta_1y', 'city', 'company_size', 'company_type', 'gender',\n",
    "       'university', 'subject_area', 'exp', 'current_job_exp', 'salary',\n",
    "       'currency', 'cls', 'timestamp', 'english_level', 'education_level',\n",
    "       'age']\n",
    "\n",
    "def get_graph_dfs(df):\n",
    "    primary_results = df.drop_duplicates(['N', 'timestamp'])[EXTRACT_COLUMNS]\n",
    "    related_columns = list(map(lambda x: x + SIMILAR_SUFFIX, EXTRACT_COLUMNS))\n",
    "    related = []\n",
    "\n",
    "    for index, primary_row in primary_results.iterrows():\n",
    "        related_rows = df[\n",
    "            (df['N' + SIMILAR_SUFFIX] == primary_row['N']) &\n",
    "            (df['timestamp' + SIMILAR_SUFFIX] == primary_row['timestamp'])\n",
    "        ]\n",
    "        \n",
    "        related_rows = related_rows[related_columns].drop_duplicates()\n",
    "        related_rows.columns = EXTRACT_COLUMNS\n",
    "        related.append(related_rows)\n",
    "        \n",
    "    return primary_results, pd.concat(related)\n",
    "\n",
    "output = widgets.Output()\n",
    "\n",
    "join_df = pd.read_csv(path_prefix + 'join.csv', parse_dates=['timestamp', 'timestamp' + JOINED_SUFFIX])\n",
    "\n",
    "def join_related_entries(df):\n",
    "    join_straight = df.merge(\n",
    "        join_df, \n",
    "        how='inner',\n",
    "        on=['N', 'timestamp'],\n",
    "    )\n",
    "\n",
    "    join_reverse = df.merge(\n",
    "        join_df, \n",
    "        how='inner',\n",
    "        left_on=['N', 'timestamp'],\n",
    "        right_on = ['N' + JOINED_SUFFIX, 'timestamp' + JOINED_SUFFIX],\n",
    "        suffixes=['', RELATION_SUFFIX]\n",
    "    )\n",
    "\n",
    "    joined_straight = join_straight.merge(\n",
    "        source_df,\n",
    "        how='inner',\n",
    "        left_on=['N' + JOINED_SUFFIX, 'timestamp' + JOINED_SUFFIX],\n",
    "        right_on=['N', 'timestamp'],\n",
    "        suffixes=['', SIMILAR_SUFFIX]\n",
    "    )\n",
    "\n",
    "    joined_reverse = join_reverse.merge(\n",
    "        source_df,\n",
    "        how='inner',\n",
    "        left_on=['N' + RELATION_SUFFIX, 'timestamp' + RELATION_SUFFIX],\n",
    "        right_on=['N', 'timestamp'],\n",
    "        suffixes=['', SIMILAR_SUFFIX]\n",
    "    )\n",
    "\n",
    "    return pd.concat([joined_straight, joined_reverse])\n",
    "\n",
    "found, related = None, None\n",
    "\n",
    "def handle_submit(b):\n",
    "    global found, related\n",
    "\n",
    "    print('Обработка формы.')\n",
    "    \n",
    "    filtered_df = source_df[apply_matchers(source_df)]\n",
    "    full_records = join_related_entries(filtered_df)\n",
    "\n",
    "    found, related = get_graph_dfs(full_records)\n",
    "    print('Данные отфильтрованы.')\n",
    "    \n",
    "\n",
    "\n",
    "submit.on_click(handle_submit)\n",
    "\n",
    "[display(input, output) for input in inputs.values()]\n",
    "print()\n"
   ]
  },
  {
   "cell_type": "markdown",
   "metadata": {},
   "source": [
    "Характеристики выборки"
   ]
  },
  {
   "cell_type": "code",
   "execution_count": 31,
   "metadata": {},
   "outputs": [
    {
     "name": "stdout",
     "output_type": "stream",
     "text": [
      "count      131.000000\n",
      "mean      2330.656489\n",
      "std       1673.274357\n",
      "min        400.000000\n",
      "10%        600.000000\n",
      "25%       1000.000000\n",
      "50%       1900.000000\n",
      "75%       3350.000000\n",
      "90%       4600.000000\n",
      "max      10000.000000\n",
      "Name: salary, dtype: float64\n"
     ]
    }
   ],
   "source": [
    "all_df = pd.concat([related, found])\n",
    "print(all_df.salary.describe([.1, .25, .5, .75, .9]))"
   ]
  },
  {
   "cell_type": "markdown",
   "metadata": {},
   "source": [
    "Графики изменения з/п в зависимости от образования, английского, возраста, опыта, размера и типа компании."
   ]
  },
  {
   "cell_type": "code",
   "execution_count": 32,
   "metadata": {
    "scrolled": false
   },
   "outputs": [
    {
     "data": {
      "image/png": "[encoded data removed]",
      "text/plain": [
       "<Figure size 1080x360 with 1 Axes>"
      ]
     },
     "metadata": {},
     "output_type": "display_data"
    },
    {
     "data": {
      "image/png": "[encoded data removed]",
      "text/plain": [
       "<Figure size 1080x360 with 1 Axes>"
      ]
     },
     "metadata": {},
     "output_type": "display_data"
    },
    {
     "data": {
      "image/png": "[encoded data removed]",
      "text/plain": [
       "<Figure size 1080x360 with 1 Axes>"
      ]
     },
     "metadata": {},
     "output_type": "display_data"
    },
    {
     "data": {
      "image/png": "[encoded data removed]",
      "text/plain": [
       "<Figure size 1080x360 with 1 Axes>"
      ]
     },
     "metadata": {},
     "output_type": "display_data"
    },
    {
     "data": {
      "image/png": "[encoded data removed]",
      "text/plain": [
       "<Figure size 1080x360 with 1 Axes>"
      ]
     },
     "metadata": {},
     "output_type": "display_data"
    },
    {
     "data": {
      "image/png": "[encoded data removed]",
      "text/plain": [
       "<Figure size 1080x360 with 1 Axes>"
      ]
     },
     "metadata": {},
     "output_type": "display_data"
    },
    {
     "data": {
      "image/png": "[encoded data removed]",
      "text/plain": [
       "<Figure size 1080x360 with 1 Axes>"
      ]
     },
     "metadata": {},
     "output_type": "display_data"
    }
   ],
   "source": [
    "y = related['salary']\n",
    "colors = ['#0000ff' for _ in y]\n",
    "y = y.append(found['salary'])\n",
    "colors += ['#ff0000' for _, __ in found.iterrows()]\n",
    "\n",
    "plt.style.use('ggplot')\n",
    "plt.rcParams['figure.figsize'] = (15, 5)\n",
    "\n",
    "timestamp = plt.figure()\n",
    "timestamp.suptitle('Данные опросов по датам.')\n",
    "x = all_df.timestamp\n",
    "plt.scatter(x, y, c=colors)\n",
    "\n",
    "education = plt.figure()\n",
    "education.suptitle('Образование')\n",
    "x = all_df.education_level\n",
    "plt.scatter(x, y, c=colors)\n",
    "plt.xticks(range(len(EDUCATION_LEVELS)), EDUCATION_LEVELS)\n",
    "\n",
    "english = plt.figure()\n",
    "english.suptitle('Уровень английского')\n",
    "x = all_df.english_level\n",
    "plt.scatter(x, y, c=colors)\n",
    "plt.xticks(range(len(ENGLISH_LEVELS)), ENGLISH_LEVELS)\n",
    "\n",
    "age = plt.figure()\n",
    "age.suptitle('Возраст')\n",
    "x = all_df.age\n",
    "plt.scatter(x, y, c=colors)\n",
    "\n",
    "exp = plt.figure()\n",
    "exp.suptitle('Опыт')\n",
    "x = all_df.exp\n",
    "plt.scatter(x, y, c=colors)\n",
    "\n",
    "exp = plt.figure()\n",
    "exp.suptitle('Опыт на текущем месте')\n",
    "x = all_df.current_job_exp\n",
    "plt.scatter(x, y, c=colors)\n",
    "\n",
    "exp = plt.figure()\n",
    "exp.suptitle('Тип компании')\n",
    "x = all_df.company_type\n",
    "plt.scatter(x, y, c=colors)\n",
    "\n",
    "exp = plt.figure()\n",
    "exp.suptitle('Размер компании')\n",
    "x = all_df.company_size\n",
    "plt.scatter(x, y, c=colors)\n",
    "\n",
    "plt.close()"
   ]
  },
  {
   "cell_type": "code",
   "execution_count": null,
   "metadata": {},
   "outputs": [],
   "source": []
  }
 ],
 "metadata": {
  "kernelspec": {
   "display_name": "Python 3",
   "language": "python",
   "name": "python3"
  },
  "language_info": {
   "codemirror_mode": {
    "name": "ipython",
    "version": 3
   },
   "file_extension": ".py",
   "mimetype": "text/x-python",
   "name": "python",
   "nbconvert_exporter": "python",
   "pygments_lexer": "ipython3",
   "version": "3.7.6"
  }
 },
 "nbformat": 4,
 "nbformat_minor": 4
}
